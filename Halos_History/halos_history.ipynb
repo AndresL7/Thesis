{
 "cells": [
  {
   "cell_type": "code",
   "execution_count": null,
   "id": "48a4f25b",
   "metadata": {},
   "outputs": [],
   "source": [
    "import illustris_python as il\n",
    "\n",
    "basepath = input(\"Enter the base path for Illustris data: \")\n",
    "snap_z0 = 99 # Snapshot number for z=0\n",
    "\n",
    "#cargar los subhalos\n",
    "# subhalos = il.groupcat.loadSubhalos(basepath, snap_z0, fields=['SubhaloGrNr'])\n",
    "\n",
    "#cargar los halos\n",
    "groups = il.groupcat.loadHalos(basepath, snap_z0, fields=['GroupFirstSub'])\n",
    "\n",
    "# Obtener el subhalo central del grupo con GroupID=0\n",
    "GroupID = 0\n",
    "central_sub_id = groups['GroupFirstSub'][GroupID]\n",
    "\n",
    "# Rama principal del arbol de ese subhalo\n",
    "tree = il.sublink.loadTree(basepath, snap_z0, central_sub_id,\n",
    "                            fields=['SnapNum', 'SubhaloGrNr'],\n",
    "                            onlyMPB=True)\n",
    "\n",
    "#escritura en archivo\n",
    "with open(\"halos_history.txt\", \"w\") as f:\n",
    "    for snap, gid in zip(tree['SnapNum'], tree['SubhaloGrNr']):\n",
    "        f.write(f\"{snap} {gid}\\n\")\n",
    "\n"
   ]
  },
  {
   "cell_type": "code",
   "execution_count": null,
   "id": "bd05deb3",
   "metadata": {},
   "outputs": [],
   "source": []
  }
 ],
 "metadata": {
  "kernelspec": {
   "display_name": "venv",
   "language": "python",
   "name": "python3"
  },
  "language_info": {
   "codemirror_mode": {
    "name": "ipython",
    "version": 3
   },
   "file_extension": ".py",
   "mimetype": "text/x-python",
   "name": "python",
   "nbconvert_exporter": "python",
   "pygments_lexer": "ipython3",
   "version": "3.12.3"
  }
 },
 "nbformat": 4,
 "nbformat_minor": 5
}
