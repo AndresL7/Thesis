{
 "cells": [
  {
   "cell_type": "code",
   "execution_count": 3,
   "metadata": {},
   "outputs": [
    {
     "name": "stdout",
     "output_type": "stream",
     "text": [
      "Simplices (triángulos formados): [[2, 8, 4], [7, 8, 2], [7, 5, 0], [8, 7, 0], [8, 6, 4], [6, 8, 0], [1, 3, 5], [7, 1, 5], [3, 1, 9], [1, 2, 9], [1, 7, 2]]\n"
     ]
    }
   ],
   "source": [
    "from pyhull.delaunay import DelaunayTri\n",
    "import numpy as np\n",
    "\n",
    "\n",
    "points=[]\n",
    "for i in range(0,10):\n",
    "    x=np.random.randint(0,100)\n",
    "    y=np.random.randint(0,100)\n",
    "    points.append([x,y])\n",
    "\n",
    "# Crea la triangulación de Delaunay\n",
    "triangulation = DelaunayTri(points)\n",
    "\n",
    "print(\"Simplices (triángulos formados):\", triangulation.vertices)\n"
   ]
  },
  {
   "cell_type": "code",
   "execution_count": 1,
   "metadata": {},
   "outputs": [
    {
     "name": "stdout",
     "output_type": "stream",
     "text": [
      "Ruta del intérprete activo: /home/andres/facom/venv/bin/python\n"
     ]
    }
   ],
   "source": [
    "import sys\n",
    "print(\"Ruta del intérprete activo:\", sys.executable)\n"
   ]
  },
  {
   "cell_type": "code",
   "execution_count": null,
   "metadata": {},
   "outputs": [],
   "source": []
  }
 ],
 "metadata": {
  "kernelspec": {
   "display_name": "venv",
   "language": "python",
   "name": "python3"
  },
  "language_info": {
   "codemirror_mode": {
    "name": "ipython",
    "version": 3
   },
   "file_extension": ".py",
   "mimetype": "text/x-python",
   "name": "python",
   "nbconvert_exporter": "python",
   "pygments_lexer": "ipython3",
   "version": "3.12.3"
  }
 },
 "nbformat": 4,
 "nbformat_minor": 2
}
